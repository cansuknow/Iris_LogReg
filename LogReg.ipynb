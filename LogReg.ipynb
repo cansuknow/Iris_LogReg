{
 "cells": [
  {
   "cell_type": "code",
   "execution_count": 35,
   "metadata": {},
   "outputs": [],
   "source": [
    "import numpy as np\n",
    "import matplotlib.pyplot as plt\n",
    "from sklearn.linear_model import LogisticRegression\n",
    "from sklearn.datasets import load_iris\n",
    "from sklearn.model_selection import train_test_split\n",
    "from sklearn import metrics"
   ]
  },
  {
   "cell_type": "code",
   "execution_count": 36,
   "metadata": {},
   "outputs": [],
   "source": [
    "iris = load_iris()\n",
    "X = iris.data[:, :2]\n",
    "y = iris.target\n",
    "\n",
    "X_train, X_test, y_train, y_test = train_test_split(X, y, test_size=0.2, random_state=4)"
   ]
  },
  {
   "cell_type": "code",
   "execution_count": 37,
   "metadata": {},
   "outputs": [],
   "source": [
    "logreg = LogisticRegression(C=0.1, solver='lbfgs', multi_class='multinomial')"
   ]
  },
  {
   "cell_type": "code",
   "execution_count": 38,
   "metadata": {},
   "outputs": [
    {
     "data": {
      "text/plain": [
       "LogisticRegression(C=0.1, class_weight=None, dual=False, fit_intercept=True,\n",
       "          intercept_scaling=1, max_iter=100, multi_class='multinomial',\n",
       "          n_jobs=1, penalty='l2', random_state=None, solver='lbfgs',\n",
       "          tol=0.0001, verbose=0, warm_start=False)"
      ]
     },
     "execution_count": 38,
     "metadata": {},
     "output_type": "execute_result"
    }
   ],
   "source": [
    "logreg.fit(X_train, y_train)"
   ]
  },
  {
   "cell_type": "code",
   "execution_count": 39,
   "metadata": {},
   "outputs": [],
   "source": [
    "y_pred = logreg.predict(X_test)"
   ]
  },
  {
   "cell_type": "code",
   "execution_count": 40,
   "metadata": {},
   "outputs": [
    {
     "data": {
      "text/plain": [
       "array([[0.08915262, 0.44985516, 0.46099222],\n",
       "       [0.47377968, 0.26223452, 0.2639858 ],\n",
       "       [0.01785138, 0.30005462, 0.68209401],\n",
       "       [0.01525102, 0.24805219, 0.73669679],\n",
       "       [0.02336694, 0.30371776, 0.6729153 ],\n",
       "       [0.17069696, 0.46422355, 0.36507949],\n",
       "       [0.14086297, 0.5036173 , 0.35551974],\n",
       "       [0.48742957, 0.23146316, 0.28110727],\n",
       "       [0.6180644 , 0.20795479, 0.17398081],\n",
       "       [0.10301507, 0.46087203, 0.4361129 ],\n",
       "       [0.50543666, 0.35989587, 0.13466747],\n",
       "       [0.6886417 , 0.22303888, 0.08831941],\n",
       "       [0.5752601 , 0.32200037, 0.10273953],\n",
       "       [0.14970893, 0.45920654, 0.39108453],\n",
       "       [0.16919324, 0.55425833, 0.27654843],\n",
       "       [0.57096337, 0.31438235, 0.11465428],\n",
       "       [0.22698319, 0.63462325, 0.13839355],\n",
       "       [0.66603524, 0.25143625, 0.08252851],\n",
       "       [0.6886417 , 0.22303888, 0.08831941],\n",
       "       [0.09321024, 0.4781283 , 0.42866146],\n",
       "       [0.56579681, 0.30645604, 0.12774715],\n",
       "       [0.09189523, 0.33573953, 0.57236524],\n",
       "       [0.06366219, 0.5737325 , 0.36260531],\n",
       "       [0.62369854, 0.25696856, 0.1193329 ],\n",
       "       [0.66603524, 0.25143625, 0.08252851],\n",
       "       [0.69604065, 0.1871518 , 0.11680755],\n",
       "       [0.45635603, 0.46379643, 0.07984754],\n",
       "       [0.6180644 , 0.20795479, 0.17398081],\n",
       "       [0.47788785, 0.31861577, 0.20349638],\n",
       "       [0.18174232, 0.51078939, 0.30746829]])"
      ]
     },
     "execution_count": 40,
     "metadata": {},
     "output_type": "execute_result"
    }
   ],
   "source": [
    "logreg.predict_proba(X_test)"
   ]
  },
  {
   "cell_type": "code",
   "execution_count": 41,
   "metadata": {},
   "outputs": [
    {
     "data": {
      "text/plain": [
       "0.8333333333333334"
      ]
     },
     "execution_count": 41,
     "metadata": {},
     "output_type": "execute_result"
    }
   ],
   "source": [
    "metrics.accuracy_score(y_test,y_pred)"
   ]
  },
  {
   "cell_type": "code",
   "execution_count": 42,
   "metadata": {},
   "outputs": [],
   "source": [
    "x_min, x_max = X[:, 0].min() - .5, X[:, 0].max() + .5\n",
    "y_min, y_max = X[:, 1].min() - .5, X[:, 1].max() + .5\n",
    "h = .02\n",
    "xx, yy = np.meshgrid(np.arange(x_min, x_max, h), np.arange(y_min, y_max, h))"
   ]
  },
  {
   "cell_type": "code",
   "execution_count": 43,
   "metadata": {},
   "outputs": [],
   "source": [
    "Z = logreg.predict(np.c_[xx.ravel(), yy.ravel()])\n",
    "Z = Z.reshape(xx.shape)"
   ]
  },
  {
   "cell_type": "code",
   "execution_count": 46,
   "metadata": {},
   "outputs": [
    {
     "data": {
      "image/png": "[encoded data removed]",
      "text/plain": [
       "<matplotlib.figure.Figure at 0x1d1b1d0f518>"
      ]
     },
     "metadata": {},
     "output_type": "display_data"
    }
   ],
   "source": [
    "plt.figure(1, figsize=(4, 3))\n",
    "plt.pcolormesh(xx, yy, Z, cmap=plt.cm.Paired)\n",
    "\n",
    "plt.scatter(X[:, 0], X[:, 1], c=y, edgecolors='k', cmap=plt.cm.Paired)\n",
    "plt.xlabel('Sepal length')\n",
    "plt.ylabel('Sepal width')\n",
    "\n",
    "plt.xlim(xx.min(), xx.max())\n",
    "plt.ylim(yy.min(), yy.max())\n",
    "plt.xticks(())\n",
    "plt.yticks(())\n",
    "\n",
    "plt.show()"
   ]
  },
  {
   "cell_type": "code",
   "execution_count": 23,
   "metadata": {},
   "outputs": [],
   "source": [
    "iris2 = load_iris()\n",
    "X2 = iris2.data[:, 2:4]\n",
    "y2 = iris2.target\n",
    "\n",
    "X_train2, X_test2, y_train2, y_test2 = train_test_split(X2, y2, test_size=0.2, random_state=4)"
   ]
  },
  {
   "cell_type": "code",
   "execution_count": 24,
   "metadata": {},
   "outputs": [],
   "source": [
    "logreg2 = LogisticRegression(C=0.1, solver='lbfgs', multi_class='multinomial')"
   ]
  },
  {
   "cell_type": "code",
   "execution_count": 25,
   "metadata": {},
   "outputs": [
    {
     "data": {
      "text/plain": [
       "LogisticRegression(C=0.1, class_weight=None, dual=False, fit_intercept=True,\n",
       "          intercept_scaling=1, max_iter=100, multi_class='multinomial',\n",
       "          n_jobs=1, penalty='l2', random_state=None, solver='lbfgs',\n",
       "          tol=0.0001, verbose=0, warm_start=False)"
      ]
     },
     "execution_count": 25,
     "metadata": {},
     "output_type": "execute_result"
    }
   ],
   "source": [
    "logreg2.fit(X_train2, y_train2)"
   ]
  },
  {
   "cell_type": "code",
   "execution_count": 26,
   "metadata": {},
   "outputs": [],
   "source": [
    "y_pred2 = logreg2.predict(X_test2)"
   ]
  },
  {
   "cell_type": "code",
   "execution_count": 27,
   "metadata": {},
   "outputs": [
    {
     "data": {
      "text/plain": [
       "array([[4.17039834e-03, 2.49633643e-01, 7.46195959e-01],\n",
       "       [8.13392504e-01, 1.84441235e-01, 2.16626062e-03],\n",
       "       [1.79242046e-03, 1.95933146e-01, 8.02274433e-01],\n",
       "       [4.95695222e-04, 1.09861678e-01, 8.89642627e-01],\n",
       "       [1.29835877e-03, 1.79642324e-01, 8.19059318e-01],\n",
       "       [4.97420546e-02, 6.03060995e-01, 3.47196950e-01],\n",
       "       [1.67729873e-02, 4.57832637e-01, 5.25394376e-01],\n",
       "       [8.96419295e-01, 1.02910772e-01, 6.69933145e-04],\n",
       "       [8.09219131e-01, 1.88355911e-01, 2.42495789e-03],\n",
       "       [1.80407729e-02, 4.79729264e-01, 5.02229963e-01],\n",
       "       [8.36345049e-01, 1.62083011e-01, 1.57193997e-03],\n",
       "       [8.36345049e-01, 1.62083011e-01, 1.57193997e-03],\n",
       "       [8.72323782e-01, 1.26757387e-01, 9.18830833e-04],\n",
       "       [3.81924309e-02, 5.86085192e-01, 3.75722378e-01],\n",
       "       [1.48241659e-02, 3.94127767e-01, 5.91048067e-01],\n",
       "       [8.56928005e-01, 1.41935324e-01, 1.13667088e-03],\n",
       "       [2.34799431e-01, 6.74609346e-01, 9.05912225e-02],\n",
       "       [8.83549015e-01, 1.15619444e-01, 8.31540614e-04],\n",
       "       [7.74732523e-01, 2.22359440e-01, 2.90803685e-03],\n",
       "       [2.07712253e-02, 4.59798739e-01, 5.19430036e-01],\n",
       "       [8.96419295e-01, 1.02910772e-01, 6.69933145e-04],\n",
       "       [3.39495909e-03, 2.31638483e-01, 7.64966557e-01],\n",
       "       [4.97420546e-02, 6.03060995e-01, 3.47196950e-01],\n",
       "       [8.28786886e-01, 1.69240926e-01, 1.97218831e-03],\n",
       "       [8.36345049e-01, 1.62083011e-01, 1.57193997e-03],\n",
       "       [8.50192672e-01, 1.48379543e-01, 1.42778494e-03],\n",
       "       [8.80759641e-01, 1.18307668e-01, 9.32690913e-04],\n",
       "       [8.77905669e-01, 1.21048273e-01, 1.04605788e-03],\n",
       "       [8.17480735e-01, 1.80584356e-01, 1.93490900e-03],\n",
       "       [1.33074306e-02, 3.92876735e-01, 5.93815835e-01]])"
      ]
     },
     "execution_count": 27,
     "metadata": {},
     "output_type": "execute_result"
    }
   ],
   "source": [
    "logreg2.predict_proba(X_test2)"
   ]
  },
  {
   "cell_type": "code",
   "execution_count": 28,
   "metadata": {},
   "outputs": [
    {
     "data": {
      "text/plain": [
       "0.9666666666666667"
      ]
     },
     "execution_count": 28,
     "metadata": {},
     "output_type": "execute_result"
    }
   ],
   "source": [
    "metrics.accuracy_score(y_test2,y_pred2)"
   ]
  },
  {
   "cell_type": "code",
   "execution_count": 29,
   "metadata": {},
   "outputs": [],
   "source": [
    "x_min2, x_max2 = X2[:, 0].min() - .5, X2[:, 0].max() + .5\n",
    "y_min2, y_max2 = X2[:, 1].min() - .5, X2[:, 1].max() + .5\n",
    "h = .02\n",
    "xx2, yy2 = np.meshgrid(np.arange(x_min2, x_max2, h), np.arange(y_min2, y_max2, h))"
   ]
  },
  {
   "cell_type": "code",
   "execution_count": 32,
   "metadata": {},
   "outputs": [],
   "source": [
    "Z2 = logreg2.predict(np.c_[xx2.ravel(), yy2.ravel()])\n",
    "Z2 = Z2.reshape(xx2.shape)"
   ]
  },
  {
   "cell_type": "code",
   "execution_count": 34,
   "metadata": {},
   "outputs": [
    {
     "data": {
      "image/png": "[encoded data removed]",
      "text/plain": [
       "<matplotlib.figure.Figure at 0x1d1b1a93240>"
      ]
     },
     "metadata": {},
     "output_type": "display_data"
    }
   ],
   "source": [
    "plt.figure(1, figsize=(4, 3))\n",
    "plt.pcolormesh(xx2, yy2, Z2, cmap=plt.cm.Paired)\n",
    "\n",
    "plt.scatter(X2[:, 0], X2[:, 1], c=y2, edgecolors='k', cmap=plt.cm.Paired)\n",
    "plt.xlabel('Petal length')\n",
    "plt.ylabel('Petal width')\n",
    "\n",
    "plt.xlim(xx2.min(), xx2.max())\n",
    "plt.ylim(yy2.min(), yy2.max())\n",
    "plt.xticks(())\n",
    "plt.yticks(())\n",
    "\n",
    "plt.show()"
   ]
  },
  {
   "cell_type": "code",
   "execution_count": null,
   "metadata": {},
   "outputs": [],
   "source": []
  }
 ],
 "metadata": {
  "kernelspec": {
   "display_name": "Python 3",
   "language": "python",
   "name": "python3"
  },
  "language_info": {
   "codemirror_mode": {
    "name": "ipython",
    "version": 3
   },
   "file_extension": ".py",
   "mimetype": "text/x-python",
   "name": "python",
   "nbconvert_exporter": "python",
   "pygments_lexer": "ipython3",
   "version": "3.6.4"
  }
 },
 "nbformat": 4,
 "nbformat_minor": 2
}
